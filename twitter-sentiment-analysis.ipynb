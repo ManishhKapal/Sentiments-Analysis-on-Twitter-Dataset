{
 "cells": [
  {
   "cell_type": "markdown",
   "id": "7d47c84c-53a2-4c6d-a4e0-a46143092424",
   "metadata": {},
   "source": [
    "# 1. Importing Dependencies"
   ]
  },
  {
   "cell_type": "code",
   "execution_count": 66,
   "id": "3cf4efa4-c552-46e0-97fb-a130d3158ced",
   "metadata": {},
   "outputs": [],
   "source": [
    "import numpy as np\n",
    "import pandas as pd\n",
    "\n",
    "import re\n",
    "from nltk.corpus import stopwords\n",
    "from nltk.stem.porter import PorterStemmer\n",
    "\n",
    "from sklearn.feature_extraction.text import TfidfVectorizer # As we cant give textual data to the model so we have to convert the textual data into numerical data\n",
    "from sklearn.model_selection import train_test_split\n",
    "from sklearn.linear_model import LogisticRegression\n",
    "from sklearn.metrics import accuracy_score\n",
    "from sklearn.metrics import confusion_matrix, classification_report"
   ]
  },
  {
   "cell_type": "markdown",
   "id": "36eb4558-38f4-4dfb-bdac-a41d2a86a0d4",
   "metadata": {},
   "source": [
    "# 2. Data Loading and Understanding"
   ]
  },
  {
   "cell_type": "code",
   "execution_count": 4,
   "id": "28fc40d9-6610-4257-b7ec-adf04dd95b85",
   "metadata": {},
   "outputs": [],
   "source": [
    "column_headers = ['Target', 'Id', 'Date-Time', 'Flag', 'User', 'Text']\n",
    "df = pd.read_csv('twiter_sentiment.csv', encoding='ISO-8859-1', header=None, names=column_headers)"
   ]
  },
  {
   "cell_type": "code",
   "execution_count": 6,
   "id": "740e0ac5-2e68-44e2-a64a-f2bc273ed840",
   "metadata": {
    "scrolled": true
   },
   "outputs": [
    {
     "name": "stderr",
     "output_type": "stream",
     "text": [
      "[nltk_data] Downloading package stopwords to\n",
      "[nltk_data]     C:\\Users\\manis\\AppData\\Roaming\\nltk_data...\n",
      "[nltk_data]   Package stopwords is already up-to-date!\n"
     ]
    },
    {
     "data": {
      "text/plain": [
       "True"
      ]
     },
     "execution_count": 6,
     "metadata": {},
     "output_type": "execute_result"
    }
   ],
   "source": [
    "import nltk\n",
    "nltk.download('stopwords')"
   ]
  },
  {
   "cell_type": "code",
   "execution_count": 8,
   "id": "07861494-e96f-4a04-bcfa-fa440a8501d1",
   "metadata": {
    "scrolled": true
   },
   "outputs": [
    {
     "name": "stdout",
     "output_type": "stream",
     "text": [
      "['i', 'me', 'my', 'myself', 'we', 'our', 'ours', 'ourselves', 'you', \"you're\", \"you've\", \"you'll\", \"you'd\", 'your', 'yours', 'yourself', 'yourselves', 'he', 'him', 'his', 'himself', 'she', \"she's\", 'her', 'hers', 'herself', 'it', \"it's\", 'its', 'itself', 'they', 'them', 'their', 'theirs', 'themselves', 'what', 'which', 'who', 'whom', 'this', 'that', \"that'll\", 'these', 'those', 'am', 'is', 'are', 'was', 'were', 'be', 'been', 'being', 'have', 'has', 'had', 'having', 'do', 'does', 'did', 'doing', 'a', 'an', 'the', 'and', 'but', 'if', 'or', 'because', 'as', 'until', 'while', 'of', 'at', 'by', 'for', 'with', 'about', 'against', 'between', 'into', 'through', 'during', 'before', 'after', 'above', 'below', 'to', 'from', 'up', 'down', 'in', 'out', 'on', 'off', 'over', 'under', 'again', 'further', 'then', 'once', 'here', 'there', 'when', 'where', 'why', 'how', 'all', 'any', 'both', 'each', 'few', 'more', 'most', 'other', 'some', 'such', 'no', 'nor', 'not', 'only', 'own', 'same', 'so', 'than', 'too', 'very', 's', 't', 'can', 'will', 'just', 'don', \"don't\", 'should', \"should've\", 'now', 'd', 'll', 'm', 'o', 're', 've', 'y', 'ain', 'aren', \"aren't\", 'couldn', \"couldn't\", 'didn', \"didn't\", 'doesn', \"doesn't\", 'hadn', \"hadn't\", 'hasn', \"hasn't\", 'haven', \"haven't\", 'isn', \"isn't\", 'ma', 'mightn', \"mightn't\", 'mustn', \"mustn't\", 'needn', \"needn't\", 'shan', \"shan't\", 'shouldn', \"shouldn't\", 'wasn', \"wasn't\", 'weren', \"weren't\", 'won', \"won't\", 'wouldn', \"wouldn't\"]\n"
     ]
    }
   ],
   "source": [
    "print(stopwords.words('english'))"
   ]
  },
  {
   "cell_type": "markdown",
   "id": "e8b6cd83-863b-4f9a-83d5-37d42047513f",
   "metadata": {},
   "source": [
    "# *Sentiment Analysis on a dataset of around 1.6 Million Twitter Tweets*"
   ]
  },
  {
   "cell_type": "code",
   "execution_count": 85,
   "id": "521cf909-eb04-48b1-99a1-128a2d20ee7a",
   "metadata": {},
   "outputs": [
    {
     "data": {
      "text/plain": [
       "(1600000, 7)"
      ]
     },
     "execution_count": 85,
     "metadata": {},
     "output_type": "execute_result"
    }
   ],
   "source": [
    "df.shape"
   ]
  },
  {
   "cell_type": "code",
   "execution_count": 87,
   "id": "f1c83258-f654-45da-b565-e7968494da2b",
   "metadata": {},
   "outputs": [
    {
     "data": {
      "text/html": [
       "<div>\n",
       "<style scoped>\n",
       "    .dataframe tbody tr th:only-of-type {\n",
       "        vertical-align: middle;\n",
       "    }\n",
       "\n",
       "    .dataframe tbody tr th {\n",
       "        vertical-align: top;\n",
       "    }\n",
       "\n",
       "    .dataframe thead th {\n",
       "        text-align: right;\n",
       "    }\n",
       "</style>\n",
       "<table border=\"1\" class=\"dataframe\">\n",
       "  <thead>\n",
       "    <tr style=\"text-align: right;\">\n",
       "      <th></th>\n",
       "      <th>Target</th>\n",
       "      <th>Id</th>\n",
       "      <th>Date-Time</th>\n",
       "      <th>Flag</th>\n",
       "      <th>User</th>\n",
       "      <th>Text</th>\n",
       "      <th>stemmed_text</th>\n",
       "    </tr>\n",
       "  </thead>\n",
       "  <tbody>\n",
       "    <tr>\n",
       "      <th>1536255</th>\n",
       "      <td>1</td>\n",
       "      <td>2179220969</td>\n",
       "      <td>Mon Jun 15 08:48:37 PDT 2009</td>\n",
       "      <td>NO_QUERY</td>\n",
       "      <td>eve214</td>\n",
       "      <td>Omg work in the afternoon sigh!! I Wanna go to...</td>\n",
       "      <td>omg work afternoon sigh wanna go citi island t...</td>\n",
       "    </tr>\n",
       "    <tr>\n",
       "      <th>65235</th>\n",
       "      <td>0</td>\n",
       "      <td>1690897533</td>\n",
       "      <td>Sun May 03 16:37:48 PDT 2009</td>\n",
       "      <td>NO_QUERY</td>\n",
       "      <td>HollyAnn09</td>\n",
       "      <td>is going to bed watching pinocchio ...because ...</td>\n",
       "      <td>go bed watch pinocchio im bk work tomorrow</td>\n",
       "    </tr>\n",
       "    <tr>\n",
       "      <th>1248686</th>\n",
       "      <td>1</td>\n",
       "      <td>1995892926</td>\n",
       "      <td>Mon Jun 01 14:12:40 PDT 2009</td>\n",
       "      <td>NO_QUERY</td>\n",
       "      <td>roguemouse</td>\n",
       "      <td>@Lee_Nox ...it's a gift. Makes me wonder what ...</td>\n",
       "      <td>lee nox gift make wonder els convinc sinist gr...</td>\n",
       "    </tr>\n",
       "    <tr>\n",
       "      <th>656315</th>\n",
       "      <td>0</td>\n",
       "      <td>2240405136</td>\n",
       "      <td>Fri Jun 19 09:42:24 PDT 2009</td>\n",
       "      <td>NO_QUERY</td>\n",
       "      <td>TrishieAnn</td>\n",
       "      <td>YEAH it's FRIDAY at last!!  Its gonna rain all...</td>\n",
       "      <td>yeah friday last gonna rain weekend make sad</td>\n",
       "    </tr>\n",
       "    <tr>\n",
       "      <th>238522</th>\n",
       "      <td>0</td>\n",
       "      <td>1980431326</td>\n",
       "      <td>Sun May 31 06:43:29 PDT 2009</td>\n",
       "      <td>NO_QUERY</td>\n",
       "      <td>gehroll</td>\n",
       "      <td>UGH had the worst sleep ever i have a major ha...</td>\n",
       "      <td>ugh worst sleep ever major hangov bodi feel he...</td>\n",
       "    </tr>\n",
       "  </tbody>\n",
       "</table>\n",
       "</div>"
      ],
      "text/plain": [
       "         Target          Id                     Date-Time      Flag  \\\n",
       "1536255       1  2179220969  Mon Jun 15 08:48:37 PDT 2009  NO_QUERY   \n",
       "65235         0  1690897533  Sun May 03 16:37:48 PDT 2009  NO_QUERY   \n",
       "1248686       1  1995892926  Mon Jun 01 14:12:40 PDT 2009  NO_QUERY   \n",
       "656315        0  2240405136  Fri Jun 19 09:42:24 PDT 2009  NO_QUERY   \n",
       "238522        0  1980431326  Sun May 31 06:43:29 PDT 2009  NO_QUERY   \n",
       "\n",
       "               User                                               Text  \\\n",
       "1536255      eve214  Omg work in the afternoon sigh!! I Wanna go to...   \n",
       "65235    HollyAnn09  is going to bed watching pinocchio ...because ...   \n",
       "1248686  roguemouse  @Lee_Nox ...it's a gift. Makes me wonder what ...   \n",
       "656315   TrishieAnn  YEAH it's FRIDAY at last!!  Its gonna rain all...   \n",
       "238522      gehroll  UGH had the worst sleep ever i have a major ha...   \n",
       "\n",
       "                                              stemmed_text  \n",
       "1536255  omg work afternoon sigh wanna go citi island t...  \n",
       "65235           go bed watch pinocchio im bk work tomorrow  \n",
       "1248686  lee nox gift make wonder els convinc sinist gr...  \n",
       "656315        yeah friday last gonna rain weekend make sad  \n",
       "238522   ugh worst sleep ever major hangov bodi feel he...  "
      ]
     },
     "execution_count": 87,
     "metadata": {},
     "output_type": "execute_result"
    }
   ],
   "source": [
    "df.sample(5)"
   ]
  },
  {
   "cell_type": "markdown",
   "id": "ec9d6dc2-cc3e-47c9-a4b6-352b03deae65",
   "metadata": {},
   "source": [
    "# 3. Exploratory Data Analysis"
   ]
  },
  {
   "cell_type": "code",
   "execution_count": 16,
   "id": "534d62ab-9145-468f-9e94-83ee6af7ffe1",
   "metadata": {},
   "outputs": [
    {
     "data": {
      "text/plain": [
       "Target       0\n",
       "Id           0\n",
       "Date-Time    0\n",
       "Flag         0\n",
       "User         0\n",
       "Text         0\n",
       "dtype: int64"
      ]
     },
     "execution_count": 16,
     "metadata": {},
     "output_type": "execute_result"
    }
   ],
   "source": [
    "df.isnull().sum()"
   ]
  },
  {
   "cell_type": "code",
   "execution_count": 18,
   "id": "1339a4ef-7782-432b-b828-f61ff8edf87b",
   "metadata": {},
   "outputs": [],
   "source": [
    "df.replace({'Target':{4:1}}, inplace = True)"
   ]
  },
  {
   "cell_type": "code",
   "execution_count": 20,
   "id": "1db02697-1c38-4d2a-bc51-bc1318142e3c",
   "metadata": {},
   "outputs": [
    {
     "data": {
      "text/plain": [
       "Target\n",
       "0    800000\n",
       "1    800000\n",
       "Name: count, dtype: int64"
      ]
     },
     "execution_count": 20,
     "metadata": {},
     "output_type": "execute_result"
    }
   ],
   "source": [
    "df['Target'].value_counts()"
   ]
  },
  {
   "cell_type": "code",
   "execution_count": 22,
   "id": "d89ed192-b274-4850-866c-dc04d44552fc",
   "metadata": {},
   "outputs": [],
   "source": [
    "# Reducing all the words to it's Root Word\n",
    "port_stem = PorterStemmer()"
   ]
  },
  {
   "cell_type": "code",
   "execution_count": 91,
   "id": "19d3734e-57a7-46a7-b4c9-34eb42e97038",
   "metadata": {},
   "outputs": [],
   "source": [
    "def stemming(content):\n",
    "    new_stem = re.sub('[^a-zA-Z]', ' ', content)\n",
    "    new_stem = new_stem.lower()\n",
    "    new_stem = new_stem.split()\n",
    "    new_stem = [port_stem.stem(word) for word in new_stem if not word in stopwords.words('english')]\n",
    "    new_stem = ' '.join(new_stem)\n",
    "    return new_stem"
   ]
  },
  {
   "cell_type": "code",
   "execution_count": 26,
   "id": "a9c82a67-3644-4892-ac1a-0412182494ef",
   "metadata": {},
   "outputs": [],
   "source": [
    "df['stemmed_text'] = df['Text'].apply(stemming)"
   ]
  },
  {
   "cell_type": "code",
   "execution_count": 28,
   "id": "699e67e5-d6d3-4268-a905-59f15166aec7",
   "metadata": {},
   "outputs": [
    {
     "data": {
      "text/html": [
       "<div>\n",
       "<style scoped>\n",
       "    .dataframe tbody tr th:only-of-type {\n",
       "        vertical-align: middle;\n",
       "    }\n",
       "\n",
       "    .dataframe tbody tr th {\n",
       "        vertical-align: top;\n",
       "    }\n",
       "\n",
       "    .dataframe thead th {\n",
       "        text-align: right;\n",
       "    }\n",
       "</style>\n",
       "<table border=\"1\" class=\"dataframe\">\n",
       "  <thead>\n",
       "    <tr style=\"text-align: right;\">\n",
       "      <th></th>\n",
       "      <th>Target</th>\n",
       "      <th>Id</th>\n",
       "      <th>Date-Time</th>\n",
       "      <th>Flag</th>\n",
       "      <th>User</th>\n",
       "      <th>Text</th>\n",
       "      <th>stemmed_text</th>\n",
       "    </tr>\n",
       "  </thead>\n",
       "  <tbody>\n",
       "    <tr>\n",
       "      <th>0</th>\n",
       "      <td>0</td>\n",
       "      <td>1467810369</td>\n",
       "      <td>Mon Apr 06 22:19:45 PDT 2009</td>\n",
       "      <td>NO_QUERY</td>\n",
       "      <td>_TheSpecialOne_</td>\n",
       "      <td>@switchfoot http://twitpic.com/2y1zl - Awww, t...</td>\n",
       "      <td>switchfoot http twitpic com zl awww bummer sho...</td>\n",
       "    </tr>\n",
       "    <tr>\n",
       "      <th>1</th>\n",
       "      <td>0</td>\n",
       "      <td>1467810672</td>\n",
       "      <td>Mon Apr 06 22:19:49 PDT 2009</td>\n",
       "      <td>NO_QUERY</td>\n",
       "      <td>scotthamilton</td>\n",
       "      <td>is upset that he can't update his Facebook by ...</td>\n",
       "      <td>upset updat facebook text might cri result sch...</td>\n",
       "    </tr>\n",
       "    <tr>\n",
       "      <th>2</th>\n",
       "      <td>0</td>\n",
       "      <td>1467810917</td>\n",
       "      <td>Mon Apr 06 22:19:53 PDT 2009</td>\n",
       "      <td>NO_QUERY</td>\n",
       "      <td>mattycus</td>\n",
       "      <td>@Kenichan I dived many times for the ball. Man...</td>\n",
       "      <td>kenichan dive mani time ball manag save rest g...</td>\n",
       "    </tr>\n",
       "    <tr>\n",
       "      <th>3</th>\n",
       "      <td>0</td>\n",
       "      <td>1467811184</td>\n",
       "      <td>Mon Apr 06 22:19:57 PDT 2009</td>\n",
       "      <td>NO_QUERY</td>\n",
       "      <td>ElleCTF</td>\n",
       "      <td>my whole body feels itchy and like its on fire</td>\n",
       "      <td>whole bodi feel itchi like fire</td>\n",
       "    </tr>\n",
       "    <tr>\n",
       "      <th>4</th>\n",
       "      <td>0</td>\n",
       "      <td>1467811193</td>\n",
       "      <td>Mon Apr 06 22:19:57 PDT 2009</td>\n",
       "      <td>NO_QUERY</td>\n",
       "      <td>Karoli</td>\n",
       "      <td>@nationwideclass no, it's not behaving at all....</td>\n",
       "      <td>nationwideclass behav mad see</td>\n",
       "    </tr>\n",
       "  </tbody>\n",
       "</table>\n",
       "</div>"
      ],
      "text/plain": [
       "   Target          Id                     Date-Time      Flag  \\\n",
       "0       0  1467810369  Mon Apr 06 22:19:45 PDT 2009  NO_QUERY   \n",
       "1       0  1467810672  Mon Apr 06 22:19:49 PDT 2009  NO_QUERY   \n",
       "2       0  1467810917  Mon Apr 06 22:19:53 PDT 2009  NO_QUERY   \n",
       "3       0  1467811184  Mon Apr 06 22:19:57 PDT 2009  NO_QUERY   \n",
       "4       0  1467811193  Mon Apr 06 22:19:57 PDT 2009  NO_QUERY   \n",
       "\n",
       "              User                                               Text  \\\n",
       "0  _TheSpecialOne_  @switchfoot http://twitpic.com/2y1zl - Awww, t...   \n",
       "1    scotthamilton  is upset that he can't update his Facebook by ...   \n",
       "2         mattycus  @Kenichan I dived many times for the ball. Man...   \n",
       "3          ElleCTF    my whole body feels itchy and like its on fire    \n",
       "4           Karoli  @nationwideclass no, it's not behaving at all....   \n",
       "\n",
       "                                        stemmed_text  \n",
       "0  switchfoot http twitpic com zl awww bummer sho...  \n",
       "1  upset updat facebook text might cri result sch...  \n",
       "2  kenichan dive mani time ball manag save rest g...  \n",
       "3                    whole bodi feel itchi like fire  \n",
       "4                      nationwideclass behav mad see  "
      ]
     },
     "execution_count": 28,
     "metadata": {},
     "output_type": "execute_result"
    }
   ],
   "source": [
    "df.head()"
   ]
  },
  {
   "cell_type": "code",
   "execution_count": 30,
   "id": "59d8cdee-73e1-4816-8ac5-fb89c9f0db69",
   "metadata": {},
   "outputs": [
    {
     "name": "stdout",
     "output_type": "stream",
     "text": [
      "0          switchfoot http twitpic com zl awww bummer sho...\n",
      "1          upset updat facebook text might cri result sch...\n",
      "2          kenichan dive mani time ball manag save rest g...\n",
      "3                            whole bodi feel itchi like fire\n",
      "4                              nationwideclass behav mad see\n",
      "                                 ...                        \n",
      "1599995                           woke school best feel ever\n",
      "1599996    thewdb com cool hear old walt interview http b...\n",
      "1599997                         readi mojo makeov ask detail\n",
      "1599998    happi th birthday boo alll time tupac amaru sh...\n",
      "1599999    happi charitytuesday thenspcc sparkschar speak...\n",
      "Name: stemmed_text, Length: 1600000, dtype: object\n"
     ]
    }
   ],
   "source": [
    "print(df['stemmed_text'])"
   ]
  },
  {
   "cell_type": "markdown",
   "id": "fa9ff2b4-5c6e-47f2-ab58-69f1438bc3be",
   "metadata": {},
   "source": [
    "# 4. Converting Textual data into Numerical using TfidfVectorizer"
   ]
  },
  {
   "cell_type": "code",
   "execution_count": 38,
   "id": "f92fa4a3-bc6a-4a19-8d40-6d08372c794f",
   "metadata": {},
   "outputs": [],
   "source": [
    "vectorizer = TfidfVectorizer()"
   ]
  },
  {
   "cell_type": "code",
   "execution_count": 40,
   "id": "de8af7fd-1a07-4b04-aa4f-77bf2e931cb2",
   "metadata": {},
   "outputs": [],
   "source": [
    "x_train = vectorizer.fit_transform(x_train)\n",
    "x_test = vectorizer.transform(x_test)"
   ]
  },
  {
   "cell_type": "code",
   "execution_count": 41,
   "id": "f97753e6-a4d3-4721-ab6b-dc2b9a38242d",
   "metadata": {
    "scrolled": true
   },
   "outputs": [
    {
     "name": "stdout",
     "output_type": "stream",
     "text": [
      "  (0, 6138)\t0.49266620633844205\n",
      "  (0, 65858)\t0.724860705672608\n",
      "  (0, 155094)\t0.30476900817080577\n",
      "  (0, 274567)\t0.3727905821805048\n",
      "  (1, 19512)\t0.3487441976093634\n",
      "  (1, 74016)\t0.2723970726590324\n",
      "  (1, 246205)\t0.6210729678126399\n",
      "  (1, 305395)\t0.5952886374123374\n",
      "  (1, 383729)\t0.25313460107372376\n",
      "  (2, 54106)\t0.19397022475781744\n",
      "  (2, 99331)\t0.2830945888464492\n",
      "  (2, 117308)\t0.2159797167580701\n",
      "  (2, 143010)\t0.1854594483108216\n",
      "  (2, 145344)\t0.2262841511612535\n",
      "  (2, 150895)\t0.18686001906471258\n",
      "  (2, 162240)\t0.2220207408561772\n",
      "  (2, 198784)\t0.30350616010265585\n",
      "  (2, 201803)\t0.15099805184381426\n",
      "  (2, 207533)\t0.2609110495748858\n",
      "  (2, 214695)\t0.13681872277040022\n",
      "  (2, 264111)\t0.18745801925221567\n",
      "  (2, 339894)\t0.31873150265848066\n",
      "  (2, 373235)\t0.4880130323784405\n",
      "  (2, 374180)\t0.14465541225713455\n",
      "  (2, 402625)\t0.2612539762101122\n",
      "  :\t:\n",
      "  (479996, 355486)\t0.42909441314932684\n",
      "  (479997, 2781)\t0.5437225634806151\n",
      "  (479997, 103666)\t0.3426835508718109\n",
      "  (479997, 128528)\t0.269533423776464\n",
      "  (479997, 214695)\t0.1602395688587236\n",
      "  (479997, 220243)\t0.4363575980634283\n",
      "  (479997, 245474)\t0.3554608262381607\n",
      "  (479997, 323839)\t0.3783464599791563\n",
      "  (479997, 374180)\t0.1694177552882323\n",
      "  (479998, 35857)\t0.4469052363771008\n",
      "  (479998, 48798)\t0.32138128908282804\n",
      "  (479998, 85958)\t0.17443942709866372\n",
      "  (479998, 89835)\t0.33961176606188026\n",
      "  (479998, 110303)\t0.2685622677092185\n",
      "  (479998, 119975)\t0.3812597577683266\n",
      "  (479998, 233199)\t0.3558453978297776\n",
      "  (479998, 306206)\t0.2105492053414227\n",
      "  (479998, 311820)\t0.23559996831580765\n",
      "  (479998, 400845)\t0.3275294745887466\n",
      "  (479999, 128098)\t0.4259909304883249\n",
      "  (479999, 200102)\t0.37553411357443406\n",
      "  (479999, 227559)\t0.5487816205332647\n",
      "  (479999, 315844)\t0.42350559638099183\n",
      "  (479999, 365418)\t0.3713911607431985\n",
      "  (479999, 398446)\t0.243014825070898\n"
     ]
    }
   ],
   "source": [
    "print(x_test)"
   ]
  },
  {
   "cell_type": "markdown",
   "id": "17a95765-148b-4422-8d1a-043c14e9128a",
   "metadata": {},
   "source": [
    "# 5. Splitting the Train and Test Data"
   ]
  },
  {
   "cell_type": "code",
   "execution_count": 32,
   "id": "a8c21ad2-82c7-4a35-a731-b4bf92f1ed94",
   "metadata": {},
   "outputs": [],
   "source": [
    "x = df.iloc[:,-1].values\n",
    "y = df.iloc[:,0].values"
   ]
  },
  {
   "cell_type": "code",
   "execution_count": 35,
   "id": "78e1d2ce-1997-4b39-8b81-8ccd0057b909",
   "metadata": {},
   "outputs": [],
   "source": [
    "x_train, x_test, y_train, y_test = train_test_split(x, y, test_size=0.3, random_state=42)"
   ]
  },
  {
   "cell_type": "markdown",
   "id": "0a8bc693-052b-4a2e-a1c7-d96a81b7bf36",
   "metadata": {},
   "source": [
    "# 6. Modelling"
   ]
  },
  {
   "cell_type": "code",
   "execution_count": 43,
   "id": "12775166-d4a6-41ae-80ee-64a4b475fe56",
   "metadata": {},
   "outputs": [],
   "source": [
    "logistic = LogisticRegression()"
   ]
  },
  {
   "cell_type": "code",
   "execution_count": 52,
   "id": "2e930073-ae1c-4aa2-bf32-18ba59d46204",
   "metadata": {},
   "outputs": [
    {
     "data": {
      "text/html": [
       "<style>#sk-container-id-2 {\n",
       "  /* Definition of color scheme common for light and dark mode */\n",
       "  --sklearn-color-text: black;\n",
       "  --sklearn-color-line: gray;\n",
       "  /* Definition of color scheme for unfitted estimators */\n",
       "  --sklearn-color-unfitted-level-0: #fff5e6;\n",
       "  --sklearn-color-unfitted-level-1: #f6e4d2;\n",
       "  --sklearn-color-unfitted-level-2: #ffe0b3;\n",
       "  --sklearn-color-unfitted-level-3: chocolate;\n",
       "  /* Definition of color scheme for fitted estimators */\n",
       "  --sklearn-color-fitted-level-0: #f0f8ff;\n",
       "  --sklearn-color-fitted-level-1: #d4ebff;\n",
       "  --sklearn-color-fitted-level-2: #b3dbfd;\n",
       "  --sklearn-color-fitted-level-3: cornflowerblue;\n",
       "\n",
       "  /* Specific color for light theme */\n",
       "  --sklearn-color-text-on-default-background: var(--sg-text-color, var(--theme-code-foreground, var(--jp-content-font-color1, black)));\n",
       "  --sklearn-color-background: var(--sg-background-color, var(--theme-background, var(--jp-layout-color0, white)));\n",
       "  --sklearn-color-border-box: var(--sg-text-color, var(--theme-code-foreground, var(--jp-content-font-color1, black)));\n",
       "  --sklearn-color-icon: #696969;\n",
       "\n",
       "  @media (prefers-color-scheme: dark) {\n",
       "    /* Redefinition of color scheme for dark theme */\n",
       "    --sklearn-color-text-on-default-background: var(--sg-text-color, var(--theme-code-foreground, var(--jp-content-font-color1, white)));\n",
       "    --sklearn-color-background: var(--sg-background-color, var(--theme-background, var(--jp-layout-color0, #111)));\n",
       "    --sklearn-color-border-box: var(--sg-text-color, var(--theme-code-foreground, var(--jp-content-font-color1, white)));\n",
       "    --sklearn-color-icon: #878787;\n",
       "  }\n",
       "}\n",
       "\n",
       "#sk-container-id-2 {\n",
       "  color: var(--sklearn-color-text);\n",
       "}\n",
       "\n",
       "#sk-container-id-2 pre {\n",
       "  padding: 0;\n",
       "}\n",
       "\n",
       "#sk-container-id-2 input.sk-hidden--visually {\n",
       "  border: 0;\n",
       "  clip: rect(1px 1px 1px 1px);\n",
       "  clip: rect(1px, 1px, 1px, 1px);\n",
       "  height: 1px;\n",
       "  margin: -1px;\n",
       "  overflow: hidden;\n",
       "  padding: 0;\n",
       "  position: absolute;\n",
       "  width: 1px;\n",
       "}\n",
       "\n",
       "#sk-container-id-2 div.sk-dashed-wrapped {\n",
       "  border: 1px dashed var(--sklearn-color-line);\n",
       "  margin: 0 0.4em 0.5em 0.4em;\n",
       "  box-sizing: border-box;\n",
       "  padding-bottom: 0.4em;\n",
       "  background-color: var(--sklearn-color-background);\n",
       "}\n",
       "\n",
       "#sk-container-id-2 div.sk-container {\n",
       "  /* jupyter's `normalize.less` sets `[hidden] { display: none; }`\n",
       "     but bootstrap.min.css set `[hidden] { display: none !important; }`\n",
       "     so we also need the `!important` here to be able to override the\n",
       "     default hidden behavior on the sphinx rendered scikit-learn.org.\n",
       "     See: https://github.com/scikit-learn/scikit-learn/issues/21755 */\n",
       "  display: inline-block !important;\n",
       "  position: relative;\n",
       "}\n",
       "\n",
       "#sk-container-id-2 div.sk-text-repr-fallback {\n",
       "  display: none;\n",
       "}\n",
       "\n",
       "div.sk-parallel-item,\n",
       "div.sk-serial,\n",
       "div.sk-item {\n",
       "  /* draw centered vertical line to link estimators */\n",
       "  background-image: linear-gradient(var(--sklearn-color-text-on-default-background), var(--sklearn-color-text-on-default-background));\n",
       "  background-size: 2px 100%;\n",
       "  background-repeat: no-repeat;\n",
       "  background-position: center center;\n",
       "}\n",
       "\n",
       "/* Parallel-specific style estimator block */\n",
       "\n",
       "#sk-container-id-2 div.sk-parallel-item::after {\n",
       "  content: \"\";\n",
       "  width: 100%;\n",
       "  border-bottom: 2px solid var(--sklearn-color-text-on-default-background);\n",
       "  flex-grow: 1;\n",
       "}\n",
       "\n",
       "#sk-container-id-2 div.sk-parallel {\n",
       "  display: flex;\n",
       "  align-items: stretch;\n",
       "  justify-content: center;\n",
       "  background-color: var(--sklearn-color-background);\n",
       "  position: relative;\n",
       "}\n",
       "\n",
       "#sk-container-id-2 div.sk-parallel-item {\n",
       "  display: flex;\n",
       "  flex-direction: column;\n",
       "}\n",
       "\n",
       "#sk-container-id-2 div.sk-parallel-item:first-child::after {\n",
       "  align-self: flex-end;\n",
       "  width: 50%;\n",
       "}\n",
       "\n",
       "#sk-container-id-2 div.sk-parallel-item:last-child::after {\n",
       "  align-self: flex-start;\n",
       "  width: 50%;\n",
       "}\n",
       "\n",
       "#sk-container-id-2 div.sk-parallel-item:only-child::after {\n",
       "  width: 0;\n",
       "}\n",
       "\n",
       "/* Serial-specific style estimator block */\n",
       "\n",
       "#sk-container-id-2 div.sk-serial {\n",
       "  display: flex;\n",
       "  flex-direction: column;\n",
       "  align-items: center;\n",
       "  background-color: var(--sklearn-color-background);\n",
       "  padding-right: 1em;\n",
       "  padding-left: 1em;\n",
       "}\n",
       "\n",
       "\n",
       "/* Toggleable style: style used for estimator/Pipeline/ColumnTransformer box that is\n",
       "clickable and can be expanded/collapsed.\n",
       "- Pipeline and ColumnTransformer use this feature and define the default style\n",
       "- Estimators will overwrite some part of the style using the `sk-estimator` class\n",
       "*/\n",
       "\n",
       "/* Pipeline and ColumnTransformer style (default) */\n",
       "\n",
       "#sk-container-id-2 div.sk-toggleable {\n",
       "  /* Default theme specific background. It is overwritten whether we have a\n",
       "  specific estimator or a Pipeline/ColumnTransformer */\n",
       "  background-color: var(--sklearn-color-background);\n",
       "}\n",
       "\n",
       "/* Toggleable label */\n",
       "#sk-container-id-2 label.sk-toggleable__label {\n",
       "  cursor: pointer;\n",
       "  display: block;\n",
       "  width: 100%;\n",
       "  margin-bottom: 0;\n",
       "  padding: 0.5em;\n",
       "  box-sizing: border-box;\n",
       "  text-align: center;\n",
       "}\n",
       "\n",
       "#sk-container-id-2 label.sk-toggleable__label-arrow:before {\n",
       "  /* Arrow on the left of the label */\n",
       "  content: \"▸\";\n",
       "  float: left;\n",
       "  margin-right: 0.25em;\n",
       "  color: var(--sklearn-color-icon);\n",
       "}\n",
       "\n",
       "#sk-container-id-2 label.sk-toggleable__label-arrow:hover:before {\n",
       "  color: var(--sklearn-color-text);\n",
       "}\n",
       "\n",
       "/* Toggleable content - dropdown */\n",
       "\n",
       "#sk-container-id-2 div.sk-toggleable__content {\n",
       "  max-height: 0;\n",
       "  max-width: 0;\n",
       "  overflow: hidden;\n",
       "  text-align: left;\n",
       "  /* unfitted */\n",
       "  background-color: var(--sklearn-color-unfitted-level-0);\n",
       "}\n",
       "\n",
       "#sk-container-id-2 div.sk-toggleable__content.fitted {\n",
       "  /* fitted */\n",
       "  background-color: var(--sklearn-color-fitted-level-0);\n",
       "}\n",
       "\n",
       "#sk-container-id-2 div.sk-toggleable__content pre {\n",
       "  margin: 0.2em;\n",
       "  border-radius: 0.25em;\n",
       "  color: var(--sklearn-color-text);\n",
       "  /* unfitted */\n",
       "  background-color: var(--sklearn-color-unfitted-level-0);\n",
       "}\n",
       "\n",
       "#sk-container-id-2 div.sk-toggleable__content.fitted pre {\n",
       "  /* unfitted */\n",
       "  background-color: var(--sklearn-color-fitted-level-0);\n",
       "}\n",
       "\n",
       "#sk-container-id-2 input.sk-toggleable__control:checked~div.sk-toggleable__content {\n",
       "  /* Expand drop-down */\n",
       "  max-height: 200px;\n",
       "  max-width: 100%;\n",
       "  overflow: auto;\n",
       "}\n",
       "\n",
       "#sk-container-id-2 input.sk-toggleable__control:checked~label.sk-toggleable__label-arrow:before {\n",
       "  content: \"▾\";\n",
       "}\n",
       "\n",
       "/* Pipeline/ColumnTransformer-specific style */\n",
       "\n",
       "#sk-container-id-2 div.sk-label input.sk-toggleable__control:checked~label.sk-toggleable__label {\n",
       "  color: var(--sklearn-color-text);\n",
       "  background-color: var(--sklearn-color-unfitted-level-2);\n",
       "}\n",
       "\n",
       "#sk-container-id-2 div.sk-label.fitted input.sk-toggleable__control:checked~label.sk-toggleable__label {\n",
       "  background-color: var(--sklearn-color-fitted-level-2);\n",
       "}\n",
       "\n",
       "/* Estimator-specific style */\n",
       "\n",
       "/* Colorize estimator box */\n",
       "#sk-container-id-2 div.sk-estimator input.sk-toggleable__control:checked~label.sk-toggleable__label {\n",
       "  /* unfitted */\n",
       "  background-color: var(--sklearn-color-unfitted-level-2);\n",
       "}\n",
       "\n",
       "#sk-container-id-2 div.sk-estimator.fitted input.sk-toggleable__control:checked~label.sk-toggleable__label {\n",
       "  /* fitted */\n",
       "  background-color: var(--sklearn-color-fitted-level-2);\n",
       "}\n",
       "\n",
       "#sk-container-id-2 div.sk-label label.sk-toggleable__label,\n",
       "#sk-container-id-2 div.sk-label label {\n",
       "  /* The background is the default theme color */\n",
       "  color: var(--sklearn-color-text-on-default-background);\n",
       "}\n",
       "\n",
       "/* On hover, darken the color of the background */\n",
       "#sk-container-id-2 div.sk-label:hover label.sk-toggleable__label {\n",
       "  color: var(--sklearn-color-text);\n",
       "  background-color: var(--sklearn-color-unfitted-level-2);\n",
       "}\n",
       "\n",
       "/* Label box, darken color on hover, fitted */\n",
       "#sk-container-id-2 div.sk-label.fitted:hover label.sk-toggleable__label.fitted {\n",
       "  color: var(--sklearn-color-text);\n",
       "  background-color: var(--sklearn-color-fitted-level-2);\n",
       "}\n",
       "\n",
       "/* Estimator label */\n",
       "\n",
       "#sk-container-id-2 div.sk-label label {\n",
       "  font-family: monospace;\n",
       "  font-weight: bold;\n",
       "  display: inline-block;\n",
       "  line-height: 1.2em;\n",
       "}\n",
       "\n",
       "#sk-container-id-2 div.sk-label-container {\n",
       "  text-align: center;\n",
       "}\n",
       "\n",
       "/* Estimator-specific */\n",
       "#sk-container-id-2 div.sk-estimator {\n",
       "  font-family: monospace;\n",
       "  border: 1px dotted var(--sklearn-color-border-box);\n",
       "  border-radius: 0.25em;\n",
       "  box-sizing: border-box;\n",
       "  margin-bottom: 0.5em;\n",
       "  /* unfitted */\n",
       "  background-color: var(--sklearn-color-unfitted-level-0);\n",
       "}\n",
       "\n",
       "#sk-container-id-2 div.sk-estimator.fitted {\n",
       "  /* fitted */\n",
       "  background-color: var(--sklearn-color-fitted-level-0);\n",
       "}\n",
       "\n",
       "/* on hover */\n",
       "#sk-container-id-2 div.sk-estimator:hover {\n",
       "  /* unfitted */\n",
       "  background-color: var(--sklearn-color-unfitted-level-2);\n",
       "}\n",
       "\n",
       "#sk-container-id-2 div.sk-estimator.fitted:hover {\n",
       "  /* fitted */\n",
       "  background-color: var(--sklearn-color-fitted-level-2);\n",
       "}\n",
       "\n",
       "/* Specification for estimator info (e.g. \"i\" and \"?\") */\n",
       "\n",
       "/* Common style for \"i\" and \"?\" */\n",
       "\n",
       ".sk-estimator-doc-link,\n",
       "a:link.sk-estimator-doc-link,\n",
       "a:visited.sk-estimator-doc-link {\n",
       "  float: right;\n",
       "  font-size: smaller;\n",
       "  line-height: 1em;\n",
       "  font-family: monospace;\n",
       "  background-color: var(--sklearn-color-background);\n",
       "  border-radius: 1em;\n",
       "  height: 1em;\n",
       "  width: 1em;\n",
       "  text-decoration: none !important;\n",
       "  margin-left: 1ex;\n",
       "  /* unfitted */\n",
       "  border: var(--sklearn-color-unfitted-level-1) 1pt solid;\n",
       "  color: var(--sklearn-color-unfitted-level-1);\n",
       "}\n",
       "\n",
       ".sk-estimator-doc-link.fitted,\n",
       "a:link.sk-estimator-doc-link.fitted,\n",
       "a:visited.sk-estimator-doc-link.fitted {\n",
       "  /* fitted */\n",
       "  border: var(--sklearn-color-fitted-level-1) 1pt solid;\n",
       "  color: var(--sklearn-color-fitted-level-1);\n",
       "}\n",
       "\n",
       "/* On hover */\n",
       "div.sk-estimator:hover .sk-estimator-doc-link:hover,\n",
       ".sk-estimator-doc-link:hover,\n",
       "div.sk-label-container:hover .sk-estimator-doc-link:hover,\n",
       ".sk-estimator-doc-link:hover {\n",
       "  /* unfitted */\n",
       "  background-color: var(--sklearn-color-unfitted-level-3);\n",
       "  color: var(--sklearn-color-background);\n",
       "  text-decoration: none;\n",
       "}\n",
       "\n",
       "div.sk-estimator.fitted:hover .sk-estimator-doc-link.fitted:hover,\n",
       ".sk-estimator-doc-link.fitted:hover,\n",
       "div.sk-label-container:hover .sk-estimator-doc-link.fitted:hover,\n",
       ".sk-estimator-doc-link.fitted:hover {\n",
       "  /* fitted */\n",
       "  background-color: var(--sklearn-color-fitted-level-3);\n",
       "  color: var(--sklearn-color-background);\n",
       "  text-decoration: none;\n",
       "}\n",
       "\n",
       "/* Span, style for the box shown on hovering the info icon */\n",
       ".sk-estimator-doc-link span {\n",
       "  display: none;\n",
       "  z-index: 9999;\n",
       "  position: relative;\n",
       "  font-weight: normal;\n",
       "  right: .2ex;\n",
       "  padding: .5ex;\n",
       "  margin: .5ex;\n",
       "  width: min-content;\n",
       "  min-width: 20ex;\n",
       "  max-width: 50ex;\n",
       "  color: var(--sklearn-color-text);\n",
       "  box-shadow: 2pt 2pt 4pt #999;\n",
       "  /* unfitted */\n",
       "  background: var(--sklearn-color-unfitted-level-0);\n",
       "  border: .5pt solid var(--sklearn-color-unfitted-level-3);\n",
       "}\n",
       "\n",
       ".sk-estimator-doc-link.fitted span {\n",
       "  /* fitted */\n",
       "  background: var(--sklearn-color-fitted-level-0);\n",
       "  border: var(--sklearn-color-fitted-level-3);\n",
       "}\n",
       "\n",
       ".sk-estimator-doc-link:hover span {\n",
       "  display: block;\n",
       "}\n",
       "\n",
       "/* \"?\"-specific style due to the `<a>` HTML tag */\n",
       "\n",
       "#sk-container-id-2 a.estimator_doc_link {\n",
       "  float: right;\n",
       "  font-size: 1rem;\n",
       "  line-height: 1em;\n",
       "  font-family: monospace;\n",
       "  background-color: var(--sklearn-color-background);\n",
       "  border-radius: 1rem;\n",
       "  height: 1rem;\n",
       "  width: 1rem;\n",
       "  text-decoration: none;\n",
       "  /* unfitted */\n",
       "  color: var(--sklearn-color-unfitted-level-1);\n",
       "  border: var(--sklearn-color-unfitted-level-1) 1pt solid;\n",
       "}\n",
       "\n",
       "#sk-container-id-2 a.estimator_doc_link.fitted {\n",
       "  /* fitted */\n",
       "  border: var(--sklearn-color-fitted-level-1) 1pt solid;\n",
       "  color: var(--sklearn-color-fitted-level-1);\n",
       "}\n",
       "\n",
       "/* On hover */\n",
       "#sk-container-id-2 a.estimator_doc_link:hover {\n",
       "  /* unfitted */\n",
       "  background-color: var(--sklearn-color-unfitted-level-3);\n",
       "  color: var(--sklearn-color-background);\n",
       "  text-decoration: none;\n",
       "}\n",
       "\n",
       "#sk-container-id-2 a.estimator_doc_link.fitted:hover {\n",
       "  /* fitted */\n",
       "  background-color: var(--sklearn-color-fitted-level-3);\n",
       "}\n",
       "</style><div id=\"sk-container-id-2\" class=\"sk-top-container\"><div class=\"sk-text-repr-fallback\"><pre>LogisticRegression()</pre><b>In a Jupyter environment, please rerun this cell to show the HTML representation or trust the notebook. <br />On GitHub, the HTML representation is unable to render, please try loading this page with nbviewer.org.</b></div><div class=\"sk-container\" hidden><div class=\"sk-item\"><div class=\"sk-estimator fitted sk-toggleable\"><input class=\"sk-toggleable__control sk-hidden--visually\" id=\"sk-estimator-id-2\" type=\"checkbox\" checked><label for=\"sk-estimator-id-2\" class=\"sk-toggleable__label fitted sk-toggleable__label-arrow fitted\">&nbsp;&nbsp;LogisticRegression<a class=\"sk-estimator-doc-link fitted\" rel=\"noreferrer\" target=\"_blank\" href=\"https://scikit-learn.org/1.5/modules/generated/sklearn.linear_model.LogisticRegression.html\">?<span>Documentation for LogisticRegression</span></a><span class=\"sk-estimator-doc-link fitted\">i<span>Fitted</span></span></label><div class=\"sk-toggleable__content fitted\"><pre>LogisticRegression()</pre></div> </div></div></div></div>"
      ],
      "text/plain": [
       "LogisticRegression()"
      ]
     },
     "execution_count": 52,
     "metadata": {},
     "output_type": "execute_result"
    }
   ],
   "source": [
    "logistic.fit(x_train, y_train)"
   ]
  },
  {
   "cell_type": "code",
   "execution_count": 54,
   "id": "33ca4f35-ff4d-454f-a7a1-54cac605a96a",
   "metadata": {},
   "outputs": [],
   "source": [
    "y_train_pred = logistic.predict(x_train)"
   ]
  },
  {
   "cell_type": "code",
   "execution_count": 56,
   "id": "7a1a2e6f-194b-49bd-b200-6ae77fe58882",
   "metadata": {},
   "outputs": [],
   "source": [
    "y_test_pred = logistic.predict(x_test)"
   ]
  },
  {
   "cell_type": "markdown",
   "id": "5a33d3d0-d58a-405c-8cbc-4fe6f157f777",
   "metadata": {},
   "source": [
    "# 7. Model Evaluation"
   ]
  },
  {
   "cell_type": "markdown",
   "id": "f31d2f87-a476-45d0-90ef-8a7938d9fd36",
   "metadata": {},
   "source": [
    "## 7a. For Known Data"
   ]
  },
  {
   "cell_type": "code",
   "execution_count": 95,
   "id": "77c98b61-54b7-4b7a-8cd4-9428fb497d8a",
   "metadata": {},
   "outputs": [
    {
     "name": "stdout",
     "output_type": "stream",
     "text": [
      "Accuracy Score for Trained data is:  0.8040678571428571\n"
     ]
    }
   ],
   "source": [
    "print('Accuracy Score for Trained data is: ', accuracy_score(y_train, y_train_pred))"
   ]
  },
  {
   "cell_type": "code",
   "execution_count": 97,
   "id": "9e919c54-327b-42ac-8460-ad46a420cc0e",
   "metadata": {},
   "outputs": [
    {
     "name": "stdout",
     "output_type": "stream",
     "text": [
      "Confusion Matrix for Trained Data:\n",
      "  [[438302 122337]\n",
      " [ 97107 462254]]\n"
     ]
    }
   ],
   "source": [
    "print('Confusion Matrix for Trained Data:\\n ', confusion_matrix(y_train, y_train_pred))"
   ]
  },
  {
   "cell_type": "code",
   "execution_count": 99,
   "id": "f1ac9ce3-4569-46bc-9dc5-80a74d09ce74",
   "metadata": {},
   "outputs": [
    {
     "name": "stdout",
     "output_type": "stream",
     "text": [
      "Classification Report for Trained Data:\n",
      "                precision    recall  f1-score   support\n",
      "\n",
      "           0       0.82      0.78      0.80    560639\n",
      "           1       0.79      0.83      0.81    559361\n",
      "\n",
      "    accuracy                           0.80   1120000\n",
      "   macro avg       0.80      0.80      0.80   1120000\n",
      "weighted avg       0.80      0.80      0.80   1120000\n",
      "\n"
     ]
    }
   ],
   "source": [
    "print('Classification Report for Trained Data:\\n ', classification_report(y_train, y_train_pred))"
   ]
  },
  {
   "cell_type": "markdown",
   "id": "6909a826-a6a6-4341-96b3-8d207b4aca2f",
   "metadata": {},
   "source": [
    "## 7b. For Unknown Data"
   ]
  },
  {
   "cell_type": "code",
   "execution_count": 101,
   "id": "2a8dfa54-f7c7-4484-b6c7-e8f451518c17",
   "metadata": {},
   "outputs": [
    {
     "name": "stdout",
     "output_type": "stream",
     "text": [
      "Accuracy Score for Test data is:  0.77693125\n"
     ]
    }
   ],
   "source": [
    "print('Accuracy Score for Test data is: ', accuracy_score(y_test, y_test_pred))"
   ]
  },
  {
   "cell_type": "code",
   "execution_count": 103,
   "id": "51b6cbae-21cf-4fa0-b775-e740ff373206",
   "metadata": {},
   "outputs": [
    {
     "name": "stdout",
     "output_type": "stream",
     "text": [
      "Confusion Matrix for Test Data:\n",
      "  [[181221  58140]\n",
      " [ 48933 191706]]\n"
     ]
    }
   ],
   "source": [
    "print('Confusion Matrix for Test Data:\\n ', confusion_matrix(y_test, y_test_pred))"
   ]
  },
  {
   "cell_type": "code",
   "execution_count": 105,
   "id": "46e35c05-902c-41f7-9e39-4a33ad5ed380",
   "metadata": {},
   "outputs": [
    {
     "name": "stdout",
     "output_type": "stream",
     "text": [
      "Classification Report for Test Data:\n",
      "                precision    recall  f1-score   support\n",
      "\n",
      "           0       0.79      0.76      0.77    239361\n",
      "           1       0.77      0.80      0.78    240639\n",
      "\n",
      "    accuracy                           0.78    480000\n",
      "   macro avg       0.78      0.78      0.78    480000\n",
      "weighted avg       0.78      0.78      0.78    480000\n",
      "\n"
     ]
    }
   ],
   "source": [
    "print('Classification Report for Test Data:\\n ', classification_report(y_test, y_test_pred))"
   ]
  },
  {
   "cell_type": "code",
   "execution_count": 111,
   "id": "233474c7-0e88-4b34-a92a-1cfed406f9d0",
   "metadata": {},
   "outputs": [
    {
     "data": {
      "image/png": "[encoded data removed]",
      "text/plain": [
       "<Figure size 1200x500 with 4 Axes>"
      ]
     },
     "metadata": {},
     "output_type": "display_data"
    },
    {
     "data": {
      "image/png": "[encoded data removed]",
      "text/plain": [
       "<Figure size 1000x600 with 1 Axes>"
      ]
     },
     "metadata": {},
     "output_type": "display_data"
    }
   ],
   "source": [
    "import matplotlib.pyplot as plt\n",
    "import seaborn as sns\n",
    "import numpy as np\n",
    "\n",
    "# Variables from the image\n",
    "# Confusion Matrices\n",
    "cm_train = [[438302, 122337], [97107, 462254]]  # Known data\n",
    "cm_test = [[181221, 58140], [48933, 191760]]    # Unknown data\n",
    "\n",
    "# Metrics for Known Data (Train)\n",
    "metrics_train = {\n",
    "    \"precision\": [0.82, 0.79],\n",
    "    \"recall\": [0.78, 0.83],\n",
    "    \"f1-score\": [0.80, 0.81],\n",
    "    \"labels\": [\"Class 0\", \"Class 1\"]\n",
    "}\n",
    "\n",
    "# Metrics for Unknown Data (Test)\n",
    "metrics_test = {\n",
    "    \"precision\": [0.79, 0.77],\n",
    "    \"recall\": [0.76, 0.78],\n",
    "    \"f1-score\": [0.77, 0.78],\n",
    "    \"labels\": [\"Class 0\", \"Class 1\"]\n",
    "}\n",
    "\n",
    "# --- Plot Confusion Matrix Heatmaps ---\n",
    "fig, axes = plt.subplots(1, 2, figsize=(12, 5))\n",
    "\n",
    "sns.heatmap(cm_train, annot=True, fmt='d', cmap='Blues', ax=axes[0])\n",
    "axes[0].set_title(\"Confusion Matrix (Train Data)\")\n",
    "axes[0].set_xlabel(\"Predicted Labels\")\n",
    "axes[0].set_ylabel(\"True Labels\")\n",
    "\n",
    "sns.heatmap(cm_test, annot=True, fmt='d', cmap='Greens', ax=axes[1])\n",
    "axes[1].set_title(\"Confusion Matrix (Test Data)\")\n",
    "axes[1].set_xlabel(\"Predicted Labels\")\n",
    "axes[1].set_ylabel(\"True Labels\")\n",
    "\n",
    "plt.tight_layout()\n",
    "plt.show()\n",
    "\n",
    "# --- Plot Precision, Recall, and F1-Score Bar Charts ---\n",
    "x = np.arange(len(metrics_train[\"labels\"]))  # Label locations\n",
    "width = 0.25  # Width of the bars\n",
    "\n",
    "fig, ax = plt.subplots(figsize=(10, 6))\n",
    "\n",
    "# Train Metrics\n",
    "ax.bar(x - width, metrics_train[\"precision\"], width, label='Precision (Train)', color='blue')\n",
    "ax.bar(x, metrics_train[\"recall\"], width, label='Recall (Train)', color='cyan')\n",
    "ax.bar(x + width, metrics_train[\"f1-score\"], width, label='F1-Score (Train)', color='navy')\n",
    "\n",
    "# Test Metrics\n",
    "ax.bar(x - width, metrics_test[\"precision\"], width, label='Precision (Test)', color='green', alpha=0.6)\n",
    "ax.bar(x, metrics_test[\"recall\"], width, label='Recall (Test)', color='lime', alpha=0.6)\n",
    "ax.bar(x + width, metrics_test[\"f1-score\"], width, label='F1-Score (Test)', color='darkgreen', alpha=0.6)\n",
    "\n",
    "# Customization\n",
    "ax.set_xlabel('Classes')\n",
    "ax.set_ylabel('Scores')\n",
    "ax.set_title('Precision, Recall, and F1-Score for Each Class')\n",
    "ax.set_xticks(x)\n",
    "ax.set_xticklabels(metrics_train[\"labels\"])\n",
    "ax.legend()\n",
    "\n",
    "plt.tight_layout()\n",
    "plt.show()\n"
   ]
  },
  {
   "cell_type": "code",
   "execution_count": null,
   "id": "ced37cfa-6f80-4b72-bb93-3f41242ad04a",
   "metadata": {},
   "outputs": [],
   "source": []
  }
 ],
 "metadata": {
  "kernelspec": {
   "display_name": "Python 3 (ipykernel)",
   "language": "python",
   "name": "python3"
  },
  "language_info": {
   "codemirror_mode": {
    "name": "ipython",
    "version": 3
   },
   "file_extension": ".py",
   "mimetype": "text/x-python",
   "name": "python",
   "nbconvert_exporter": "python",
   "pygments_lexer": "ipython3",
   "version": "3.11.7"
  }
 },
 "nbformat": 4,
 "nbformat_minor": 5
}
